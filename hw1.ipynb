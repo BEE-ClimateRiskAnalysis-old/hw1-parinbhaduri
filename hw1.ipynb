{
 "cells": [
  {
   "cell_type": "markdown",
   "metadata": {},
   "source": [
    "# Homework 1, BEE 6940 (Due By 2/2/23, 9:00PM)"
   ]
  },
  {
   "attachments": {},
   "cell_type": "markdown",
   "metadata": {},
   "source": [
    "**Name**: Parin Bhaduri \n",
    "\n",
    "**ID**: pbb62"
   ]
  },
  {
   "cell_type": "markdown",
   "metadata": {},
   "source": [
    "## Overview"
   ]
  },
  {
   "cell_type": "markdown",
   "metadata": {},
   "source": [
    "### Instructions\n",
    "\n",
    "- Problems 1-4 consist of a series of code snippets for you to interpret and debug. For Problems 1-3, you will be asked to identify relevant error(s) and fix the code. For Problem 4, the code works as intended; your goal is to identify the code's purpose by following its logic.\n",
    "- Problem 5 asks you to rewrite a \"script\" into a function, which you will then use to conduct an experiment."
   ]
  },
  {
   "cell_type": "markdown",
   "metadata": {},
   "source": [
    "### Load Environment\n",
    "\n",
    "The following code loads the environment and makes sure all needed packages are installed. This should be at the start of most Julia scripts."
   ]
  },
  {
   "cell_type": "code",
   "execution_count": 1,
   "metadata": {},
   "outputs": [
    {
     "name": "stderr",
     "output_type": "stream",
     "text": [
      "\u001b[32m\u001b[1m  Activating\u001b[22m\u001b[39m project at `~/Library/CloudStorage/OneDrive-CornellUniversity/Coding-Assignments/BEE Climate Risk Analysis/Homeworks/hw1-parinbhaduri`\n"
     ]
    }
   ],
   "source": [
    "import Pkg\n",
    "Pkg.activate(@__DIR__)\n",
    "Pkg.instantiate()"
   ]
  },
  {
   "cell_type": "markdown",
   "metadata": {},
   "source": [
    "## Problems (Total: 100 Points)"
   ]
  },
  {
   "cell_type": "markdown",
   "metadata": {},
   "source": [
    "### Problem 1 (20 points)\n",
    "\n",
    "You've been tasked with writing code to identify the minimum value in an array. You cannot use a predefined function. Your colleague suggested the function below, but it does not return the minimum value."
   ]
  },
  {
   "cell_type": "code",
   "execution_count": 2,
   "metadata": {},
   "outputs": [
    {
     "name": "stdout",
     "output_type": "stream",
     "text": [
      "minimum(array_values) = 0\n"
     ]
    }
   ],
   "source": [
    "function minimum(array)\n",
    "    min_value = 0\n",
    "    for i in 1:length(array)\n",
    "        if array[i] < min_value\n",
    "            min_value = array[i]\n",
    "        end\n",
    "    end\n",
    "    return min_value\n",
    "end\n",
    "\n",
    "array_values = [89, 90, 95, 100, 100, 78, 99, 98, 100, 95]\n",
    "@show minimum(array_values);"
   ]
  },
  {
   "cell_type": "markdown",
   "metadata": {},
   "source": [
    "#### Problem 1.1 (10 points)\n",
    "\n",
    "Describe the logic error."
   ]
  },
  {
   "attachments": {},
   "cell_type": "markdown",
   "metadata": {},
   "source": [
    "The min_value variable is set to too low of a value, and this value is not contained in the array. No other values in the array are less than the pre-defined min value(0), so the true minimum value in the array will never be recognized. "
   ]
  },
  {
   "cell_type": "markdown",
   "metadata": {},
   "source": [
    "#### Problem 1.2 (5 points)\n",
    "\n",
    "Write a fixed version of the function."
   ]
  },
  {
   "cell_type": "code",
   "execution_count": 3,
   "metadata": {},
   "outputs": [
    {
     "data": {
      "text/plain": [
       "minimum (generic function with 1 method)"
      ]
     },
     "execution_count": 3,
     "metadata": {},
     "output_type": "execute_result"
    }
   ],
   "source": [
    "function minimum(array)\n",
    "    min_value = array[1]\n",
    "    for i in 2:length(array)\n",
    "        if array[i] < min_value\n",
    "            min_value = array[i]\n",
    "        end\n",
    "    end\n",
    "    return min_value\n",
    "end"
   ]
  },
  {
   "cell_type": "markdown",
   "metadata": {},
   "source": [
    "#### Problem 1.3 (5 points)\n",
    "\n",
    "Use your fixed function to find the minimum value of `array_values`."
   ]
  },
  {
   "cell_type": "code",
   "execution_count": 4,
   "metadata": {},
   "outputs": [
    {
     "name": "stdout",
     "output_type": "stream",
     "text": [
      "minimum(array_values) = 78\n"
     ]
    }
   ],
   "source": [
    "array_values = [89, 90, 95, 100, 100, 78, 99, 98, 100, 95]\n",
    "@show minimum(array_values);"
   ]
  },
  {
   "cell_type": "markdown",
   "metadata": {},
   "source": [
    "### Problem 2 (20 points)\n",
    "\n",
    "Your team is trying to compute the average grade for your class, but the following code produces an error."
   ]
  },
  {
   "cell_type": "code",
   "execution_count": 5,
   "metadata": {},
   "outputs": [
    {
     "ename": "LoadError",
     "evalue": "UndefVarError: average_grade not defined",
     "output_type": "error",
     "traceback": [
      "UndefVarError: average_grade not defined",
      "",
      "Stacktrace:",
      " [1] top-level scope",
      "   @ show.jl:1047",
      " [2] eval",
      "   @ ./boot.jl:373 [inlined]",
      " [3] include_string(mapexpr::typeof(REPL.softscope), mod::Module, code::String, filename::String)",
      "   @ Base ./loading.jl:1196"
     ]
    }
   ],
   "source": [
    "student_grades = [89, 90, 95, 100, 100, 78, 99, 98, 100, 95]\n",
    "function class_average(grades)\n",
    "  average_grade = mean(student_grades)\n",
    "  return average_grade\n",
    "end\n",
    "\n",
    "@show average_grade;"
   ]
  },
  {
   "cell_type": "markdown",
   "metadata": {},
   "source": [
    "#### Problem 2.1 (10 points)\n",
    "\n",
    "Describe the logic and/or syntax error."
   ]
  },
  {
   "attachments": {},
   "cell_type": "markdown",
   "metadata": {},
   "source": [
    "First, the function `class_average` has not been called on the array *student_grades*, so the average_grade variable has never been computed. Also, the mean function within `class_average` is not called on the input *grades* but rather *student_grades*, a defined array located outside of the function. "
   ]
  },
  {
   "cell_type": "markdown",
   "metadata": {},
   "source": [
    "#### Problem 2.2 (5 points)\n",
    "\n",
    "Write a fixed version of the code."
   ]
  },
  {
   "cell_type": "code",
   "execution_count": 6,
   "metadata": {},
   "outputs": [
    {
     "data": {
      "text/plain": [
       "class_average (generic function with 1 method)"
      ]
     },
     "execution_count": 6,
     "metadata": {},
     "output_type": "execute_result"
    }
   ],
   "source": [
    "using Statistics\n",
    "\n",
    "function class_average(grades)\n",
    "  average_grade = mean(grades)\n",
    "  return average_grade\n",
    "end"
   ]
  },
  {
   "cell_type": "markdown",
   "metadata": {},
   "source": [
    "#### Problem 2.3 (5 points)\n",
    "\n",
    "Use your fixed code to compute the average grade for the class."
   ]
  },
  {
   "cell_type": "code",
   "execution_count": 7,
   "metadata": {},
   "outputs": [
    {
     "name": "stdout",
     "output_type": "stream",
     "text": [
      "average_grade = 94.4\n"
     ]
    },
    {
     "data": {
      "text/plain": [
       "94.4"
      ]
     },
     "execution_count": 7,
     "metadata": {},
     "output_type": "execute_result"
    }
   ],
   "source": [
    "student_grades = [89, 90, 95, 100, 100, 78, 99, 98, 100, 95]\n",
    "average_grade = class_average(student_grades)\n",
    "\n",
    "@show average_grade"
   ]
  },
  {
   "cell_type": "markdown",
   "metadata": {},
   "source": [
    "### Problem 3 (20 points)\n",
    "\n",
    "Your team has collected data on the mileage of different car models. You want to calculate the average mileage per gallon (MPG) for the different cars, but your code produces the same value for all of the vehicles, which makes you suspicious."
   ]
  },
  {
   "cell_type": "code",
   "execution_count": 8,
   "metadata": {},
   "outputs": [
    {
     "name": "stdout",
     "output_type": "stream",
     "text": [
      "mpg = [30.363636363636363, 30.363636363636363, 30.363636363636363, 30.363636363636363, 30.363636363636363, 30.363636363636363]\n"
     ]
    }
   ],
   "source": [
    "function calculate_MPG((miles, gallons))\n",
    "    return miles / gallons\n",
    "end\n",
    "\n",
    "car_miles =  [(334, 11), (289, 15), (306, 12), (303, 20), (350, 20), (294, 14)]\n",
    "\n",
    "mpg = zeros(length(car_miles))\n",
    "\n",
    "for i in 1:length(car_miles)\n",
    "    miles = car_miles[1][1]\n",
    "    gallon = car_miles[1][2]\n",
    "    mpg[i] = calculate_MPG((miles, gallon))\n",
    "end\n",
    "@show mpg;"
   ]
  },
  {
   "cell_type": "markdown",
   "metadata": {},
   "source": [
    "##### Problem 3.1 (10 points)\n",
    "\n",
    "Describe the logic error."
   ]
  },
  {
   "attachments": {},
   "cell_type": "markdown",
   "metadata": {},
   "source": [
    "The error comes from the iteration method in the for loop. The loop is iterating by index position of the array car_miles, but the position `i` is only used to index the the output array *mpg*, when it should also be used to index the input *car_miles*. Currently, only the first tuple in *car_miles* is being used to calculate mpg, which is why the output gives all of the same values. "
   ]
  },
  {
   "cell_type": "markdown",
   "metadata": {},
   "source": [
    "#### Problem 3.2 (5 points)\n",
    "\n",
    "Write a fixed version of the code."
   ]
  },
  {
   "cell_type": "code",
   "execution_count": 9,
   "metadata": {},
   "outputs": [],
   "source": [
    "function calculate_MPG((miles, gallons))\n",
    "    return miles / gallons\n",
    "end\n",
    "\n",
    "car_miles =  [(334, 11), (289, 15), (306, 12), (303, 20), (350, 20), (294, 14)]\n",
    "\n",
    "mpg = zeros(length(car_miles))\n",
    "\n",
    "for i in 1:length(car_miles)\n",
    "    miles = car_miles[i][1]\n",
    "    gallon = car_miles[i][2]\n",
    "    mpg[i] = calculate_MPG((miles, gallon))\n",
    "end"
   ]
  },
  {
   "cell_type": "markdown",
   "metadata": {},
   "source": [
    "#### Problem 3.3 (5 points)\n",
    "\n",
    "Use your fixed code to compute the MPGs."
   ]
  },
  {
   "cell_type": "code",
   "execution_count": 10,
   "metadata": {},
   "outputs": [
    {
     "name": "stdout",
     "output_type": "stream",
     "text": [
      "mpg = [30.363636363636363, 19.266666666666666, 25.5, 15.15, 17.5, 21.0]\n"
     ]
    }
   ],
   "source": [
    "@show mpg;"
   ]
  },
  {
   "cell_type": "markdown",
   "metadata": {},
   "source": [
    "### Problem 4 (20 points)\n",
    "\n",
    "You've been handed some code to analyze. The original coder was not very considerate of other potential users: the function is called `mystery_function` and there are no comments explaining the purpose of the code. It appears to take in an array and return some numbers, and you've been assured that the code works as intended."
   ]
  },
  {
   "cell_type": "code",
   "execution_count": 11,
   "metadata": {},
   "outputs": [
    {
     "name": "stdout",
     "output_type": "stream",
     "text": [
      "mystery_function(list_of_values) = Any[1, 2, 3, 4]\n"
     ]
    }
   ],
   "source": [
    "function mystery_function(values)\n",
    "    y = []\n",
    "    for v in values\n",
    "        if !(v in y)\n",
    "            append!(y, v)\n",
    "        end\n",
    "    end\n",
    "    return y\n",
    "end\n",
    "\n",
    "list_of_values = [1, 2, 3, 4, 3, 4, 2, 1]\n",
    "@show mystery_function(list_of_values);"
   ]
  },
  {
   "cell_type": "markdown",
   "metadata": {},
   "source": [
    "#### Problem 4.1 (10 points)\n",
    "\n",
    "Explain the purpose of `mystery_function`."
   ]
  },
  {
   "attachments": {},
   "cell_type": "markdown",
   "metadata": {},
   "source": [
    "The purpose of `mystery_function` is to identify the unique values of an input array and return them in an output array. The function essentially omits repeated values present in the input array. "
   ]
  },
  {
   "cell_type": "markdown",
   "metadata": {},
   "source": [
    "#### Problem 4.2 (10 points)\n",
    "\n",
    "Add comments to the code, explaining why and how it works. Refer to [\"Best Practices for Writing Code Comments\"](https://stackoverflow.blog/2021/12/23/best-practices-for-writing-code-comments/), and remember that bad comments can be just as bad as no comments at all. You do not need to add comments to every line (in fact, this is very bad practice), but you should note the *purpose* of every \"section\" of code, and add comments explaining any code sequences that you don't immediately understand."
   ]
  },
  {
   "cell_type": "code",
   "execution_count": 12,
   "metadata": {},
   "outputs": [
    {
     "name": "stdout",
     "output_type": "stream",
     "text": [
      "mystery_function(list_of_values) = Any[1, 2, 3, 4]\n"
     ]
    }
   ],
   "source": [
    "function mystery_function(values)\n",
    "    \"\"\"This function returns unique values\n",
    "    in the input array\"\"\"\n",
    "    y = []\n",
    "    #iterate through values\n",
    "    for v in values\n",
    "        #Make sure v is not present in array y\n",
    "        if !(v in y)\n",
    "            append!(y, v) #add v to array y\n",
    "        end\n",
    "    end\n",
    "    return y\n",
    "end\n",
    "\n",
    "list_of_values = [1, 2, 3, 4, 3, 4, 2, 1]\n",
    "@show mystery_function(list_of_values);"
   ]
  },
  {
   "cell_type": "markdown",
   "metadata": {},
   "source": [
    "### Problem 5 (20 points)\n",
    "\n",
    "You and your classmate are trying to determine the expected payoff of the following game:\n",
    "- Flip a coin (which has probability $p$ of heads) 10 times;\n",
    "- If 3 consecutive heads occur one or more times, pay 1 dollar;\n",
    "- If not, pay nothing.\n",
    "\n",
    "Your classmate has written the following code, which correctly simulates one realization of this game with a fair coin."
   ]
  },
  {
   "cell_type": "code",
   "execution_count": 13,
   "metadata": {},
   "outputs": [
    {
     "name": "stdout",
     "output_type": "stream",
     "text": [
      "payoff = 1\n"
     ]
    },
    {
     "data": {
      "text/plain": [
       "1"
      ]
     },
     "execution_count": 13,
     "metadata": {},
     "output_type": "execute_result"
    }
   ],
   "source": [
    "# initialize variables, as this code works by iterating over each coin flip and adding\n",
    "let payoff = 0, count = 0\n",
    "\n",
    "    # loop over coin flips and compute payoff: this code is pretty literal with the rules of the game other than just using `rand()` to produce the heads vs. tails coin outcome.\n",
    "    for i in 1:10\n",
    "        U = rand()\n",
    "        if U < 0.5\n",
    "            count += 1\n",
    "        else\n",
    "            count = 0\n",
    "        end\n",
    "        if count == 3\n",
    "            payoff = 1\n",
    "        end\n",
    "    end\n",
    "    @show payoff;\n",
    "end"
   ]
  },
  {
   "cell_type": "markdown",
   "metadata": {},
   "source": [
    "However, you would like to conduct multiple trials to compute the expected payoff, and might want to look at coins which are not fair ($p \\neq 0.5$). To minimize copying-and-pasting code, you decide to turn this script into a function."
   ]
  },
  {
   "cell_type": "markdown",
   "metadata": {},
   "source": [
    "#### Problem 5.1 (10 points)\n",
    "\n",
    "Rewrite the above code in a function which accepts two arguments: the number of trials $N$ and the probability of heads $p$, and returns the expected payoff."
   ]
  },
  {
   "cell_type": "code",
   "execution_count": 14,
   "metadata": {},
   "outputs": [
    {
     "data": {
      "text/plain": [
       "exp_payoff (generic function with 1 method)"
      ]
     },
     "execution_count": 14,
     "metadata": {},
     "output_type": "execute_result"
    }
   ],
   "source": [
    "function exp_payoff(N,p)\n",
    "    let payoff = 0, count = 0\n",
    "        #Loop through number of trials\n",
    "        for n in 1:N\n",
    "            #loop through number of coin flips\n",
    "            for i in 1:10\n",
    "                U = rand()\n",
    "                if U < p\n",
    "                    count += 1\n",
    "                else\n",
    "                    count = 0\n",
    "                end\n",
    "                #If three consecutive heads are reached, add one to payoff\n",
    "                #Break loop and move to next trial \n",
    "                if count == 3\n",
    "                    payoff += 1\n",
    "                    break\n",
    "                end\n",
    "            end\n",
    "        end\n",
    "        @show payoff; \n",
    "    end\n",
    "end"
   ]
  },
  {
   "cell_type": "markdown",
   "metadata": {},
   "source": [
    "#### Problem 5.2 (10 points)\n",
    "\n",
    "Use your function to compare the expected payoff after 1000 trials of this game with a fair coin vs. a coin which has a 70% probability of heads."
   ]
  },
  {
   "cell_type": "code",
   "execution_count": 15,
   "metadata": {},
   "outputs": [
    {
     "name": "stdout",
     "output_type": "stream",
     "text": [
      "payoff = 496\n",
      "payoff = 721\n"
     ]
    }
   ],
   "source": [
    "exp_fair = exp_payoff(1000,0.5)\n",
    "exp_unfair = exp_payoff(1000,0.7);\n"
   ]
  },
  {
   "cell_type": "code",
   "execution_count": null,
   "metadata": {},
   "outputs": [],
   "source": []
  }
 ],
 "metadata": {
  "kernelspec": {
   "display_name": "Julia 1.7.3",
   "language": "julia",
   "name": "julia-1.7"
  },
  "language_info": {
   "file_extension": ".jl",
   "mimetype": "application/julia",
   "name": "julia",
   "version": "1.7.3"
  }
 },
 "nbformat": 4,
 "nbformat_minor": 3
}
